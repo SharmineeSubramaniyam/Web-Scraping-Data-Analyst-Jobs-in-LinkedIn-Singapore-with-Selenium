{
 "cells": [
  {
   "cell_type": "code",
   "execution_count": 81,
   "id": "e99b85d6",
   "metadata": {},
   "outputs": [],
   "source": [
    "# populate list\n",
    "\n",
    "def create_list(elements):\n",
    "    new_list = []\n",
    "    \n",
    "    for l in elements:\n",
    "        var = l.text\n",
    "        new_list.append(var)\n",
    "\n",
    "    return new_list"
   ]
  },
  {
   "cell_type": "code",
   "execution_count": 82,
   "id": "a46cb8ee",
   "metadata": {},
   "outputs": [],
   "source": [
    "# web scrape page\n",
    "\n",
    "def get_job_details(driver):\n",
    "    \n",
    "    # find elements for job title, company name, job location\n",
    "    title_elements = driver.find_elements(By.CLASS_NAME, \"base-search-card__title\")\n",
    "    company_elements = driver.find_elements(By.CLASS_NAME, \"base-search-card__subtitle\")\n",
    "    location_elements = driver.find_elements(By.CLASS_NAME, \"job-search-card__location\")\n",
    "    \n",
    "    \n",
    "    #populate list of job titles\n",
    "    titlelist = create_list(title_elements)\n",
    "    companylist = create_list(company_elements)\n",
    "    locationlist = create_list(location_elements)\n",
    "    \n",
    "    df_jobs = pd.DataFrame(data=titlelist, columns=[\"JobTitle\"])\n",
    "    df_company = pd.DataFrame(companylist, columns=[\"CompanyName\"])\n",
    "    df_location = pd.DataFrame(locationlist, columns=[\"Location\"])\n",
    "\n",
    "    df_jobs = df_jobs.join(df_company)\n",
    "    df_jobs = df_jobs.join(df_location)\n",
    "    \n",
    "    driver.quit()\n",
    "    return df_jobs\n",
    "    "
   ]
  },
  {
   "cell_type": "code",
   "execution_count": 83,
   "id": "52faec6a",
   "metadata": {},
   "outputs": [],
   "source": [
    "# scroll down page to load more entries\n",
    "\n",
    "def scroll_page(driver):\n",
    "    \n",
    "    n=0\n",
    "\n",
    "    while n<15:\n",
    "        driver.execute_script(\"window.scrollTo(0, document.body.scrollHeight);\")\n",
    "        n+=1\n",
    "    \n",
    "        try:\n",
    "            #click the See more jobs button after scrolling down\n",
    "            x=driver.find_element(By.XPATH, \"//button[@aria-label='Load more results']\")\n",
    "            driver.execute_script(\"arguments[0].click();\", x);\n",
    "        \n",
    "            #click to dismiss login\n",
    "            y=driver.find_element(By.XPATH, \"//button[@aria-label='Dismiss']\")\n",
    "            driver.execute_script(\"arguments[0].click();\", y);\n",
    "            time.sleep(2)\n",
    "        \n",
    "        except:\n",
    "            pass\n",
    "            time.sleep(2)\n",
    "            "
   ]
  },
  {
   "cell_type": "code",
   "execution_count": 84,
   "id": "b1e59bb2",
   "metadata": {},
   "outputs": [],
   "source": [
    "# get url for job positions in Singapore\n",
    "\n",
    "def get_url(position):\n",
    "    position = position.replace(\" \", \"%20\")\n",
    "    url_template = \"https://www.linkedin.com/jobs/search?keywords={}&location=Singapore\"\n",
    "    url = url_template.format(position)\n",
    "    return url\n"
   ]
  },
  {
   "cell_type": "code",
   "execution_count": 85,
   "id": "2b48ee46",
   "metadata": {},
   "outputs": [],
   "source": [
    "# get web driver\n",
    "\n",
    "def get_web_driver():\n",
    "    driver = webdriver.Chrome(ChromeDriverManager().install())\n",
    "    return driver"
   ]
  },
  {
   "cell_type": "code",
   "execution_count": 86,
   "id": "f9624ca2",
   "metadata": {},
   "outputs": [],
   "source": [
    "# main page\n",
    "\n",
    "def main(position):\n",
    "    driver = get_web_driver()\n",
    "    url = get_url(position)\n",
    "    driver.get(url)\n",
    "    driver.implicitly_wait(5)\n",
    "    scroll_page(driver)\n",
    "    df_jobs = get_job_details(driver)\n",
    "    df_jobs.to_csv(\"linkedin_jobs.csv\")"
   ]
  },
  {
   "cell_type": "code",
   "execution_count": 87,
   "id": "611b38cf",
   "metadata": {},
   "outputs": [
    {
     "name": "stderr",
     "output_type": "stream",
     "text": [
      "<ipython-input-85-743f1c3378a2>:4: DeprecationWarning: executable_path has been deprecated, please pass in a Service object\n",
      "  driver = webdriver.Chrome(ChromeDriverManager().install())\n"
     ]
    }
   ],
   "source": [
    "from bs4 import BeautifulSoup\n",
    "import selenium\n",
    "import selenium.common.exceptions\n",
    "import selenium.webdriver.chrome.service\n",
    "import selenium.webdriver.chrome.options\n",
    "from selenium import webdriver\n",
    "from selenium.webdriver.chrome.service import Service\n",
    "from selenium.webdriver.chrome.options import Options\n",
    "from selenium.webdriver.common.by import By\n",
    "from webdriver_manager.chrome import ChromeDriverManager\n",
    "from selenium.common.exceptions import NoSuchElementException, ElementNotInteractableException\n",
    "import time\n",
    "import pandas as pd\n",
    "\n",
    "# search for position on LinkedIn Singapore\n",
    "\n",
    "main(\"Data Analyst\")\n"
   ]
  },
  {
   "cell_type": "code",
   "execution_count": null,
   "id": "7ee91751",
   "metadata": {},
   "outputs": [],
   "source": []
  }
 ],
 "metadata": {
  "kernelspec": {
   "display_name": "Python 3",
   "language": "python",
   "name": "python3"
  },
  "language_info": {
   "codemirror_mode": {
    "name": "ipython",
    "version": 3
   },
   "file_extension": ".py",
   "mimetype": "text/x-python",
   "name": "python",
   "nbconvert_exporter": "python",
   "pygments_lexer": "ipython3",
   "version": "3.8.8"
  }
 },
 "nbformat": 4,
 "nbformat_minor": 5
}
